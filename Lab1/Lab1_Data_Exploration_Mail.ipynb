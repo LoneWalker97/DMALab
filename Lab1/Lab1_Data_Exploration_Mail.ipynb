{
 "cells": [
  {
   "cell_type": "code",
   "execution_count": 2,
   "metadata": {
    "collapsed": false
   },
   "outputs": [
    {
     "name": "stdout",
     "output_type": "stream",
     "text": [
      "Populating the interactive namespace from numpy and matplotlib\n"
     ]
    }
   ],
   "source": [
    "import numpy as np\n",
    "import pandas as pd\n",
    "import matplotlib.pyplot as plt\n",
    "import seaborn as sns\n",
    "%pylab inline"
   ]
  },
  {
   "cell_type": "code",
   "execution_count": 3,
   "metadata": {
    "collapsed": true
   },
   "outputs": [],
   "source": [
    "np.random.seed(sum(map(ord, \"aesthetics\")))"
   ]
  },
  {
   "cell_type": "code",
   "execution_count": 4,
   "metadata": {
    "collapsed": false
   },
   "outputs": [],
   "source": [
    "#Lets load data from train and test datasets\n",
    "train_users = pd.read_csv('train_users_2.csv')\n",
    "test_users = pd.read_csv('test_users.csv')"
   ]
  },
  {
   "cell_type": "code",
   "execution_count": 5,
   "metadata": {
    "collapsed": false
   },
   "outputs": [
    {
     "name": "stdout",
     "output_type": "stream",
     "text": [
      "('We have', 213451, 'users in the training set and', 62096, 'in the test set.')\n",
      "('In total we have', 275547, 'users.')\n"
     ]
    }
   ],
   "source": [
    "## How many users are in training set and test set\n",
    "print(\"We have\", train_users.shape[0], \"users in the training set and\", \n",
    "      test_users.shape[0], \"in the test set.\")\n",
    "print(\"In total we have\", train_users.shape[0] + test_users.shape[0], \"users.\")"
   ]
  },
  {
   "cell_type": "code",
   "execution_count": 6,
   "metadata": {
    "collapsed": true
   },
   "outputs": [],
   "source": [
    "# Merge train and test users\n",
    "users = pd.concat((train_users, test_users), axis=0, ignore_index=True)"
   ]
  },
  {
   "cell_type": "code",
   "execution_count": 7,
   "metadata": {
    "collapsed": false
   },
   "outputs": [
    {
     "data": {
      "text/html": [
       "<div>\n",
       "<table border=\"1\" class=\"dataframe\">\n",
       "  <thead>\n",
       "    <tr style=\"text-align: right;\">\n",
       "      <th></th>\n",
       "      <th>affiliate_channel</th>\n",
       "      <th>affiliate_provider</th>\n",
       "      <th>age</th>\n",
       "      <th>country_destination</th>\n",
       "      <th>date_account_created</th>\n",
       "      <th>date_first_booking</th>\n",
       "      <th>first_affiliate_tracked</th>\n",
       "      <th>first_browser</th>\n",
       "      <th>first_device_type</th>\n",
       "      <th>gender</th>\n",
       "      <th>language</th>\n",
       "      <th>signup_app</th>\n",
       "      <th>signup_flow</th>\n",
       "      <th>signup_method</th>\n",
       "      <th>timestamp_first_active</th>\n",
       "    </tr>\n",
       "  </thead>\n",
       "  <tbody>\n",
       "    <tr>\n",
       "      <th>0</th>\n",
       "      <td>direct</td>\n",
       "      <td>direct</td>\n",
       "      <td>NaN</td>\n",
       "      <td>NDF</td>\n",
       "      <td>2010-06-28</td>\n",
       "      <td>NaN</td>\n",
       "      <td>untracked</td>\n",
       "      <td>Chrome</td>\n",
       "      <td>Mac Desktop</td>\n",
       "      <td>-unknown-</td>\n",
       "      <td>en</td>\n",
       "      <td>Web</td>\n",
       "      <td>0</td>\n",
       "      <td>facebook</td>\n",
       "      <td>20090319043255</td>\n",
       "    </tr>\n",
       "    <tr>\n",
       "      <th>1</th>\n",
       "      <td>seo</td>\n",
       "      <td>google</td>\n",
       "      <td>38</td>\n",
       "      <td>NDF</td>\n",
       "      <td>2011-05-25</td>\n",
       "      <td>NaN</td>\n",
       "      <td>untracked</td>\n",
       "      <td>Chrome</td>\n",
       "      <td>Mac Desktop</td>\n",
       "      <td>MALE</td>\n",
       "      <td>en</td>\n",
       "      <td>Web</td>\n",
       "      <td>0</td>\n",
       "      <td>facebook</td>\n",
       "      <td>20090523174809</td>\n",
       "    </tr>\n",
       "    <tr>\n",
       "      <th>2</th>\n",
       "      <td>direct</td>\n",
       "      <td>direct</td>\n",
       "      <td>56</td>\n",
       "      <td>US</td>\n",
       "      <td>2010-09-28</td>\n",
       "      <td>2010-08-02</td>\n",
       "      <td>untracked</td>\n",
       "      <td>IE</td>\n",
       "      <td>Windows Desktop</td>\n",
       "      <td>FEMALE</td>\n",
       "      <td>en</td>\n",
       "      <td>Web</td>\n",
       "      <td>3</td>\n",
       "      <td>basic</td>\n",
       "      <td>20090609231247</td>\n",
       "    </tr>\n",
       "    <tr>\n",
       "      <th>3</th>\n",
       "      <td>direct</td>\n",
       "      <td>direct</td>\n",
       "      <td>42</td>\n",
       "      <td>other</td>\n",
       "      <td>2011-12-05</td>\n",
       "      <td>2012-09-08</td>\n",
       "      <td>untracked</td>\n",
       "      <td>Firefox</td>\n",
       "      <td>Mac Desktop</td>\n",
       "      <td>FEMALE</td>\n",
       "      <td>en</td>\n",
       "      <td>Web</td>\n",
       "      <td>0</td>\n",
       "      <td>facebook</td>\n",
       "      <td>20091031060129</td>\n",
       "    </tr>\n",
       "    <tr>\n",
       "      <th>4</th>\n",
       "      <td>direct</td>\n",
       "      <td>direct</td>\n",
       "      <td>41</td>\n",
       "      <td>US</td>\n",
       "      <td>2010-09-14</td>\n",
       "      <td>2010-02-18</td>\n",
       "      <td>untracked</td>\n",
       "      <td>Chrome</td>\n",
       "      <td>Mac Desktop</td>\n",
       "      <td>-unknown-</td>\n",
       "      <td>en</td>\n",
       "      <td>Web</td>\n",
       "      <td>0</td>\n",
       "      <td>basic</td>\n",
       "      <td>20091208061105</td>\n",
       "    </tr>\n",
       "  </tbody>\n",
       "</table>\n",
       "</div>"
      ],
      "text/plain": [
       "  affiliate_channel affiliate_provider  age country_destination  \\\n",
       "0            direct             direct  NaN                 NDF   \n",
       "1               seo             google   38                 NDF   \n",
       "2            direct             direct   56                  US   \n",
       "3            direct             direct   42               other   \n",
       "4            direct             direct   41                  US   \n",
       "\n",
       "  date_account_created date_first_booking first_affiliate_tracked  \\\n",
       "0           2010-06-28                NaN               untracked   \n",
       "1           2011-05-25                NaN               untracked   \n",
       "2           2010-09-28         2010-08-02               untracked   \n",
       "3           2011-12-05         2012-09-08               untracked   \n",
       "4           2010-09-14         2010-02-18               untracked   \n",
       "\n",
       "  first_browser first_device_type     gender language signup_app  signup_flow  \\\n",
       "0        Chrome       Mac Desktop  -unknown-       en        Web            0   \n",
       "1        Chrome       Mac Desktop       MALE       en        Web            0   \n",
       "2            IE   Windows Desktop     FEMALE       en        Web            3   \n",
       "3       Firefox       Mac Desktop     FEMALE       en        Web            0   \n",
       "4        Chrome       Mac Desktop  -unknown-       en        Web            0   \n",
       "\n",
       "  signup_method  timestamp_first_active  \n",
       "0      facebook          20090319043255  \n",
       "1      facebook          20090523174809  \n",
       "2         basic          20090609231247  \n",
       "3      facebook          20091031060129  \n",
       "4         basic          20091208061105  "
      ]
     },
     "execution_count": 7,
     "metadata": {},
     "output_type": "execute_result"
    }
   ],
   "source": [
    "# Remove ID's since now we are not interested in making predictions\n",
    "# As of nw don't delete\n",
    "users.drop('id',axis=1, inplace=True)\n",
    "\n",
    "users.head()"
   ]
  },
  {
   "cell_type": "markdown",
   "metadata": {},
   "source": [
    "## Untouched missing data \n",
    " #### Viewing the data: gender column has certain values being '-unknown-'. Lets transform these values into NaN.\n",
    "    "
   ]
  },
  {
   "cell_type": "code",
   "execution_count": 8,
   "metadata": {
    "collapsed": true
   },
   "outputs": [],
   "source": [
    "users.gender.replace('-unknown-', np.nan, inplace=True)"
   ]
  },
  {
   "cell_type": "code",
   "execution_count": 9,
   "metadata": {
    "collapsed": false
   },
   "outputs": [
    {
     "data": {
      "text/plain": [
       "age                        42.412365\n",
       "country_destination        22.535538\n",
       "date_first_booking         67.733998\n",
       "first_affiliate_tracked     2.208335\n",
       "gender                     46.990169\n",
       "dtype: float64"
      ]
     },
     "execution_count": 9,
     "metadata": {},
     "output_type": "execute_result"
    }
   ],
   "source": [
    "## How much data we are missing?\n",
    "## Compute NaN percentage of each feature.\n",
    "users_nan = (users.isnull().sum() / users.shape[0]) * 100\n",
    "users_nan[users_nan > 0]"
   ]
  },
  {
   "cell_type": "code",
   "execution_count": 10,
   "metadata": {
    "collapsed": false
   },
   "outputs": [
    {
     "data": {
      "text/plain": [
       "count    158681.000000\n",
       "mean         47.145310\n",
       "std         142.629468\n",
       "min           1.000000\n",
       "25%          28.000000\n",
       "50%          33.000000\n",
       "75%          42.000000\n",
       "max        2014.000000\n",
       "Name: age, dtype: float64"
      ]
     },
     "execution_count": 10,
     "metadata": {},
     "output_type": "execute_result"
    }
   ],
   "source": [
    "## age\n",
    "users.age.describe()"
   ]
  },
  {
   "cell_type": "code",
   "execution_count": 28,
   "metadata": {
    "collapsed": false
   },
   "outputs": [
    {
     "name": "stdout",
     "output_type": "stream",
     "text": [
      "830\n",
      "188\n"
     ]
    }
   ],
   "source": [
    "print(sum(users.age > 122))\n",
    "print(sum(users.age < 18))"
   ]
  },
  {
   "cell_type": "code",
   "execution_count": 29,
   "metadata": {
    "collapsed": false
   },
   "outputs": [
    {
     "data": {
      "text/plain": [
       "count     830.000000\n",
       "mean     2002.620482\n",
       "std        94.201344\n",
       "min       132.000000\n",
       "25%      2014.000000\n",
       "50%      2014.000000\n",
       "75%      2014.000000\n",
       "max      2014.000000\n",
       "Name: age, dtype: float64"
      ]
     },
     "execution_count": 29,
     "metadata": {},
     "output_type": "execute_result"
    }
   ],
   "source": [
    "users[users.age > 122]['age'].describe()\n",
    "## seems cause due to appearance of 2014 - wrong input"
   ]
  },
  {
   "cell_type": "code",
   "execution_count": 30,
   "metadata": {
    "collapsed": false
   },
   "outputs": [
    {
     "data": {
      "text/plain": [
       "count    188.000000\n",
       "mean      12.718085\n",
       "std        5.764569\n",
       "min        1.000000\n",
       "25%        5.000000\n",
       "50%       16.000000\n",
       "75%       17.000000\n",
       "max       17.000000\n",
       "Name: age, dtype: float64"
      ]
     },
     "execution_count": 30,
     "metadata": {},
     "output_type": "execute_result"
    }
   ],
   "source": [
    "users[users.age < 18]['age'].describe()"
   ]
  },
  {
   "cell_type": "markdown",
   "metadata": {},
   "source": [
    "#### Summary: The young users seems to be under an acceptable range being the 50% of those users above 16 years old. We need to hande the outliers. Simple solution set an acceptable range and put others as NaN.\n"
   ]
  },
  {
   "cell_type": "code",
   "execution_count": 31,
   "metadata": {
    "collapsed": true
   },
   "outputs": [],
   "source": [
    "users.loc[users.age > 95, 'age'] = np.nan\n",
    "users.loc[users.age < 13, 'age'] = np.nan"
   ]
  },
  {
   "cell_type": "markdown",
   "metadata": {},
   "source": [
    "## Now, lets focus on CATEGORICAL data types"
   ]
  },
  {
   "cell_type": "code",
   "execution_count": 11,
   "metadata": {
    "collapsed": true
   },
   "outputs": [],
   "source": [
    "categorical_features = [\n",
    "    'affiliate_channel',\n",
    "    'affiliate_provider',\n",
    "    'country_destination',\n",
    "    'first_affiliate_tracked',\n",
    "    'first_browser',\n",
    "    'first_device_type',\n",
    "    'gender',\n",
    "    'language',\n",
    "    'signup_app',\n",
    "    'signup_method'\n",
    "]\n",
    "\n",
    "for categorical_feature in categorical_features:\n",
    "    users[categorical_feature] = users[categorical_feature].astype('category')"
   ]
  },
  {
   "cell_type": "code",
   "execution_count": 34,
   "metadata": {
    "collapsed": true
   },
   "outputs": [],
   "source": [
    "users['date_account_created'] = pd.to_datetime(users['date_account_created'])\n",
    "users['date_first_booking'] = pd.to_datetime(users['date_first_booking'])\n",
    "users['date_first_active'] = pd.to_datetime((users.timestamp_first_active // 1000000), format='%Y%m%d')"
   ]
  },
  {
   "cell_type": "code",
   "execution_count": 12,
   "metadata": {
    "collapsed": false
   },
   "outputs": [
    {
     "data": {
      "text/html": [
       "<div>\n",
       "<table border=\"1\" class=\"dataframe\">\n",
       "  <thead>\n",
       "    <tr style=\"text-align: right;\">\n",
       "      <th></th>\n",
       "      <th>affiliate_channel</th>\n",
       "      <th>affiliate_provider</th>\n",
       "      <th>age</th>\n",
       "      <th>country_destination</th>\n",
       "      <th>date_account_created</th>\n",
       "      <th>date_first_booking</th>\n",
       "      <th>first_affiliate_tracked</th>\n",
       "      <th>first_browser</th>\n",
       "      <th>first_device_type</th>\n",
       "      <th>gender</th>\n",
       "      <th>language</th>\n",
       "      <th>signup_app</th>\n",
       "      <th>signup_flow</th>\n",
       "      <th>signup_method</th>\n",
       "      <th>timestamp_first_active</th>\n",
       "    </tr>\n",
       "  </thead>\n",
       "  <tbody>\n",
       "    <tr>\n",
       "      <th>0</th>\n",
       "      <td>direct</td>\n",
       "      <td>direct</td>\n",
       "      <td>NaN</td>\n",
       "      <td>NDF</td>\n",
       "      <td>2010-06-28</td>\n",
       "      <td>NaN</td>\n",
       "      <td>untracked</td>\n",
       "      <td>Chrome</td>\n",
       "      <td>Mac Desktop</td>\n",
       "      <td>NaN</td>\n",
       "      <td>en</td>\n",
       "      <td>Web</td>\n",
       "      <td>0</td>\n",
       "      <td>facebook</td>\n",
       "      <td>20090319043255</td>\n",
       "    </tr>\n",
       "    <tr>\n",
       "      <th>1</th>\n",
       "      <td>seo</td>\n",
       "      <td>google</td>\n",
       "      <td>38</td>\n",
       "      <td>NDF</td>\n",
       "      <td>2011-05-25</td>\n",
       "      <td>NaN</td>\n",
       "      <td>untracked</td>\n",
       "      <td>Chrome</td>\n",
       "      <td>Mac Desktop</td>\n",
       "      <td>MALE</td>\n",
       "      <td>en</td>\n",
       "      <td>Web</td>\n",
       "      <td>0</td>\n",
       "      <td>facebook</td>\n",
       "      <td>20090523174809</td>\n",
       "    </tr>\n",
       "    <tr>\n",
       "      <th>2</th>\n",
       "      <td>direct</td>\n",
       "      <td>direct</td>\n",
       "      <td>56</td>\n",
       "      <td>US</td>\n",
       "      <td>2010-09-28</td>\n",
       "      <td>2010-08-02</td>\n",
       "      <td>untracked</td>\n",
       "      <td>IE</td>\n",
       "      <td>Windows Desktop</td>\n",
       "      <td>FEMALE</td>\n",
       "      <td>en</td>\n",
       "      <td>Web</td>\n",
       "      <td>3</td>\n",
       "      <td>basic</td>\n",
       "      <td>20090609231247</td>\n",
       "    </tr>\n",
       "    <tr>\n",
       "      <th>3</th>\n",
       "      <td>direct</td>\n",
       "      <td>direct</td>\n",
       "      <td>42</td>\n",
       "      <td>other</td>\n",
       "      <td>2011-12-05</td>\n",
       "      <td>2012-09-08</td>\n",
       "      <td>untracked</td>\n",
       "      <td>Firefox</td>\n",
       "      <td>Mac Desktop</td>\n",
       "      <td>FEMALE</td>\n",
       "      <td>en</td>\n",
       "      <td>Web</td>\n",
       "      <td>0</td>\n",
       "      <td>facebook</td>\n",
       "      <td>20091031060129</td>\n",
       "    </tr>\n",
       "    <tr>\n",
       "      <th>4</th>\n",
       "      <td>direct</td>\n",
       "      <td>direct</td>\n",
       "      <td>41</td>\n",
       "      <td>US</td>\n",
       "      <td>2010-09-14</td>\n",
       "      <td>2010-02-18</td>\n",
       "      <td>untracked</td>\n",
       "      <td>Chrome</td>\n",
       "      <td>Mac Desktop</td>\n",
       "      <td>NaN</td>\n",
       "      <td>en</td>\n",
       "      <td>Web</td>\n",
       "      <td>0</td>\n",
       "      <td>basic</td>\n",
       "      <td>20091208061105</td>\n",
       "    </tr>\n",
       "  </tbody>\n",
       "</table>\n",
       "</div>"
      ],
      "text/plain": [
       "  affiliate_channel affiliate_provider  age country_destination  \\\n",
       "0            direct             direct  NaN                 NDF   \n",
       "1               seo             google   38                 NDF   \n",
       "2            direct             direct   56                  US   \n",
       "3            direct             direct   42               other   \n",
       "4            direct             direct   41                  US   \n",
       "\n",
       "  date_account_created date_first_booking first_affiliate_tracked  \\\n",
       "0           2010-06-28                NaN               untracked   \n",
       "1           2011-05-25                NaN               untracked   \n",
       "2           2010-09-28         2010-08-02               untracked   \n",
       "3           2011-12-05         2012-09-08               untracked   \n",
       "4           2010-09-14         2010-02-18               untracked   \n",
       "\n",
       "  first_browser first_device_type  gender language signup_app  signup_flow  \\\n",
       "0        Chrome       Mac Desktop     NaN       en        Web            0   \n",
       "1        Chrome       Mac Desktop    MALE       en        Web            0   \n",
       "2            IE   Windows Desktop  FEMALE       en        Web            3   \n",
       "3       Firefox       Mac Desktop  FEMALE       en        Web            0   \n",
       "4        Chrome       Mac Desktop     NaN       en        Web            0   \n",
       "\n",
       "  signup_method  timestamp_first_active  \n",
       "0      facebook          20090319043255  \n",
       "1      facebook          20090523174809  \n",
       "2         basic          20090609231247  \n",
       "3      facebook          20091031060129  \n",
       "4         basic          20091208061105  "
      ]
     },
     "execution_count": 12,
     "metadata": {},
     "output_type": "execute_result"
    }
   ],
   "source": [
    "users.head()"
   ]
  },
  {
   "cell_type": "markdown",
   "metadata": {},
   "source": [
    "## Data Visualization"
   ]
  },
  {
   "cell_type": "markdown",
   "metadata": {},
   "source": [
    "#### [1] Gender"
   ]
  },
  {
   "cell_type": "code",
   "execution_count": 13,
   "metadata": {
    "collapsed": false
   },
   "outputs": [
    {
     "data": {
      "image/png": "[encoded data removed]",
      "text/plain": [
       "<matplotlib.figure.Figure at 0x19f93e80>"
      ]
     },
     "metadata": {},
     "output_type": "display_data"
    }
   ],
   "source": [
    "\n",
    "users.gender.value_counts(dropna=False).plot(kind='bar', color='red', rot=0)\n",
    "plt.xlabel('Gender')\n",
    "sns.despine()"
   ]
  },
  {
   "cell_type": "markdown",
   "metadata": {},
   "source": [
    "### Is there any gender preferences when travelling?\n"
   ]
  },
  {
   "cell_type": "code",
   "execution_count": 16,
   "metadata": {
    "collapsed": false
   },
   "outputs": [
    {
     "data": {
      "image/png": "[encoded data removed]",
      "text/plain": [
       "<matplotlib.figure.Figure at 0x224746a0>"
      ]
     },
     "metadata": {},
     "output_type": "display_data"
    }
   ],
   "source": [
    "women = sum(users['gender'] == 'FEMALE')\n",
    "men = sum(users['gender'] == 'MALE')\n",
    "\n",
    "female_destinations = users.loc[users['gender'] == 'FEMALE', 'country_destination'].value_counts() / women * 100\n",
    "male_destinations = users.loc[users['gender'] == 'MALE', 'country_destination'].value_counts() / men * 100\n",
    "\n",
    "# Bar width\n",
    "width = 0.4\n",
    "\n",
    "male_destinations.plot(kind='bar', width=width, color='skyblue', position=0, label='Male', rot=0)\n",
    "female_destinations.plot(kind='bar', width=width, color='orange', position=1, label='Female', rot=0)\n",
    "\n",
    "plt.legend()\n",
    "plt.xlabel('Destination Country')\n",
    "plt.ylabel('Percentage')\n",
    "\n",
    "sns.despine()\n",
    "plt.show()"
   ]
  },
  {
   "cell_type": "markdown",
   "metadata": {},
   "source": [
    "#### Summary: no big difference between genders, but we find relative destination frequency of the countries."
   ]
  },
  {
   "cell_type": "markdown",
   "metadata": {},
   "source": [
    "### [2] Age"
   ]
  },
  {
   "cell_type": "code",
   "execution_count": 17,
   "metadata": {
    "collapsed": false
   },
   "outputs": [
    {
     "data": {
      "image/png": "[encoded data removed]",
      "text/plain": [
       "<matplotlib.figure.Figure at 0x1a44ffd0>"
      ]
     },
     "metadata": {},
     "output_type": "display_data"
    }
   ],
   "source": [
    "sns.distplot(users.age.dropna(), color='red')\n",
    "plt.xlabel('Age')\n",
    "sns.despine()"
   ]
  },
  {
   "cell_type": "markdown",
   "metadata": {},
   "source": [
    "### Summary: The common age to travel is between 25 and 40-45.\n",
    "   #### How about older people, do they travel in a different way?\n",
    "   #### Lets take arbitrary age (45) and split into two groups.\n",
    "    "
   ]
  },
  {
   "cell_type": "code",
   "execution_count": 18,
   "metadata": {
    "collapsed": false
   },
   "outputs": [
    {
     "data": {
      "image/png": "[encoded data removed]",
      "text/plain": [
       "<matplotlib.figure.Figure at 0x210d4438>"
      ]
     },
     "metadata": {},
     "output_type": "display_data"
    }
   ],
   "source": [
    "age = 45\n",
    "\n",
    "younger = sum(users.loc[users['age'] < age, 'country_destination'].value_counts())\n",
    "older = sum(users.loc[users['age'] > age, 'country_destination'].value_counts())\n",
    "\n",
    "younger_destinations = users.loc[users['age'] < age, 'country_destination'].value_counts() / younger * 100\n",
    "older_destinat\n",
    "ions = users.loc[users['age'] > age, 'country_destination'].value_counts() / older * 100\n",
    "\n",
    "younger_destinations.plot(kind='bar', width=width, color='skyblue', position=0, label='Youngers', rot=0)\n",
    "older_destinations.plot(kind='bar', width=width, color='lightgreen', position=1, label='Olders', rot=0)\n",
    "\n",
    "plt.legend()\n",
    "plt.xlabel('Destination Country')\n",
    "plt.ylabel('Percentage')\n",
    "\n",
    "sns.despine()\n",
    "plt.show()"
   ]
  },
  {
   "cell_type": "markdown",
   "metadata": {},
   "source": [
    "### Summary: \n",
    "    \n",
    "   #### The young people tends to stay in the US, and the older people choose to travel outside the country.\n",
    "   #### But there are no big differences.\n",
    "   #### Remember we do not have 42% of the ages.\n",
    "    \n",
    "\n",
    "    "
   ]
  },
  {
   "cell_type": "markdown",
   "metadata": {},
   "source": [
    "### [3] Dates"
   ]
  },
  {
   "cell_type": "markdown",
   "metadata": {},
   "source": [
    "#### plot number of user accounts created over time\n"
   ]
  },
  {
   "cell_type": "code",
   "execution_count": 63,
   "metadata": {
    "collapsed": false
   },
   "outputs": [
    {
     "data": {
      "text/plain": [
       "<matplotlib.axes._subplots.AxesSubplot at 0x23bce550>"
      ]
     },
     "execution_count": 63,
     "metadata": {},
     "output_type": "execute_result"
    },
    {
     "data": {
      "image/png": "[encoded data removed]",
      "text/plain": [
       "<matplotlib.figure.Figure at 0x20b831d0>"
      ]
     },
     "metadata": {},
     "output_type": "display_data"
    }
   ],
   "source": [
    "\n",
    "sns.set_style(\"whitegrid\", {'axes.edgecolor': '0'})\n",
    "sns.set_context(\"poster\", font_scale=1.1)\n",
    "users.date_account_created.value_counts().plot(kind='line', linewidth=1.2, color='red')\n"
   ]
  },
  {
   "cell_type": "markdown",
   "metadata": {},
   "source": [
    "### Summary: \n",
    "#### We find how fast travel agency has grown over the last few years. \n",
    "#### Does this correlate with the date when the user was active for the first time? \n",
    "#### It should be very similar, so doing this is a way to check the data!\n"
   ]
  },
  {
   "cell_type": "code",
   "execution_count": 64,
   "metadata": {
    "collapsed": false
   },
   "outputs": [
    {
     "data": {
      "text/plain": [
       "<matplotlib.axes._subplots.AxesSubplot at 0x226c0dd8>"
      ]
     },
     "execution_count": 64,
     "metadata": {},
     "output_type": "execute_result"
    },
    {
     "data": {
      "image/png": "[encoded data removed]",
      "text/plain": [
       "<matplotlib.figure.Figure at 0x26fa7b70>"
      ]
     },
     "metadata": {},
     "output_type": "display_data"
    }
   ],
   "source": [
    "users.date_first_active.value_counts().plot(kind='line', linewidth=1.2, color='red')"
   ]
  },
  {
   "cell_type": "markdown",
   "metadata": {},
   "source": [
    "### Summary: \n",
    "   #### We see almost same results as date_account_created.\n",
    "   #### Lets notice the small peaks by digging into the peaks.\n",
    "    "
   ]
  },
  {
   "cell_type": "code",
   "execution_count": 65,
   "metadata": {
    "collapsed": false
   },
   "outputs": [
    {
     "data": {
      "image/png": "[encoded data removed]",
      "text/plain": [
       "<matplotlib.figure.Figure at 0x26c52b38>"
      ]
     },
     "metadata": {},
     "output_type": "display_data"
    }
   ],
   "source": [
    "## lets select 2013 year\n",
    "\n",
    "users_2013 = users[users['date_first_active'] > pd.to_datetime(20130101, format='%Y%m%d')]\n",
    "users_2013 = users_2013[users_2013['date_first_active'] < pd.to_datetime(20140101, format='%Y%m%d')]\n",
    "users_2013.date_first_active.value_counts().plot(kind='line', linewidth=2, color='red')\n",
    "plt.show()\n"
   ]
  },
  {
   "cell_type": "markdown",
   "metadata": {},
   "source": [
    "### Summary:\n",
    "  ####  Small pattern - some peaks at same distance\n",
    "  ####  Lets look more closely\n",
    "    "
   ]
  },
  {
   "cell_type": "code",
   "execution_count": 66,
   "metadata": {
    "collapsed": true
   },
   "outputs": [],
   "source": [
    "weekdays = []\n",
    "for date in users.date_account_created:\n",
    "    weekdays.append(date.weekday())\n",
    "weekdays = pd.Series(weekdays)"
   ]
  },
  {
   "cell_type": "code",
   "execution_count": 67,
   "metadata": {
    "collapsed": false
   },
   "outputs": [
    {
     "data": {
      "image/png": "[encoded data removed]",
      "text/plain": [
       "<matplotlib.figure.Figure at 0x2232a438>"
      ]
     },
     "metadata": {},
     "output_type": "display_data"
    }
   ],
   "source": [
    "sns.barplot(x = weekdays.value_counts().index, y=weekdays.value_counts().values, order=range(0,7))\n",
    "plt.xlabel('Week Day')\n",
    "sns.despine()"
   ]
  },
  {
   "cell_type": "markdown",
   "metadata": {},
   "source": [
    "### HW - Can you find some distinctions between 'date_first_active' and 'date_account_created' relating to 'country_destination'?\n",
    "\n",
    "##### Ask more questions... solve"
   ]
  },
  {
   "cell_type": "markdown",
   "metadata": {},
   "source": [
    "### HW - Try making plots about devices and signups\n",
    "### HW - Work on other attributes also"
   ]
  },
  {
   "cell_type": "code",
   "execution_count": null,
   "metadata": {
    "collapsed": true
   },
   "outputs": [],
   "source": []
  }
 ],
 "metadata": {
  "kernelspec": {
   "display_name": "Python 2",
   "language": "python",
   "name": "python2"
  },
  "language_info": {
   "codemirror_mode": {
    "name": "ipython",
    "version": 2
   },
   "file_extension": ".py",
   "mimetype": "text/x-python",
   "name": "python",
   "nbconvert_exporter": "python",
   "pygments_lexer": "ipython2",
   "version": "2.7.11"
  }
 },
 "nbformat": 4,
 "nbformat_minor": 0
}
